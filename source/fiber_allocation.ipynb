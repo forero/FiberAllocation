{
 "metadata": {
  "name": "fiber_allocation"
 },
 "nbformat": 3,
 "nbformat_minor": 0,
 "worksheets": [
  {
   "cells": [
    {
     "cell_type": "code",
     "collapsed": false,
     "input": [
      "%pylab inline\n",
      "import numpy as np"
     ],
     "language": "python",
     "metadata": {},
     "outputs": [
      {
       "output_type": "stream",
       "stream": "stdout",
       "text": [
        "\n",
        "Welcome to pylab, a matplotlib-based Python environment [backend: module://IPython.zmq.pylab.backend_inline].\n",
        "For more information, type 'help(pylab)'.\n"
       ]
      }
     ],
     "prompt_number": 1
    },
    {
     "cell_type": "code",
     "collapsed": false,
     "input": [
      "class FiberSet(object):\n",
      "    def __init__(self,\n",
      "                 Ndiameter=99,\n",
      "                 pitch_mm = 6.0, \n",
      "                 radius = 1.0,\n",
      "                ):\n",
      "        self.pitch_mm = pitch_mm\n",
      "        self.radius = radius\n",
      "        self.Ndiameter = Ndiameter\n",
      "        self.make_hexagon_tile()\n",
      "            \n",
      "    def make_hexagon_tile(self):\n",
      "        self.Ndiameter = self.Ndiameter - (self.Ndiameter%2 -1) #makes the number of spines in the main axis an odd number\n",
      "        \n",
      "        delta_diameter = (2.0*self.radius)/(self.Ndiameter - 1.0)\n",
      "        x_baseline = np.arange(self.Ndiameter) * delta_diameter \n",
      "        x_baseline = x_baseline - np.median(x_baseline)\n",
      "        y_baseline = np.zeros(self.Ndiameter, dtype=float)\n",
      "\n",
      "        self.x = np.empty((0))\n",
      "        self.y = np.empty((0))\n",
      "\n",
      "        self.x = np.append(self.x, x_baseline)\n",
      "        self.y = np.append(self.y, y_baseline)\n",
      "\n",
      "        # first pass (dec positive direction)\n",
      "        n_vertical =  ((self.Ndiameter-1) - ((self.Ndiameter-1)/2))\n",
      "        \n",
      "        for i in range(n_vertical):\n",
      "            new_n_points = self.Ndiameter - i -1\n",
      "            new_x_line = np.zeros((new_n_points), dtype=float)\n",
      "            new_y_line = np.zeros((new_n_points), dtype=float)\n",
      "            new_x_line = x_baseline[0:self.Ndiameter-i-1] + (i+1) * delta_diameter * 0.5\n",
      "            new_y_line = y_baseline[0:self.Ndiameter-i-1] + (i+1) * (np.sqrt(3.0)/2.0) * delta_diameter\n",
      "            self.x = np.append(self.x, new_x_line)\n",
      "            self.y = np.append(self.y, new_y_line)\n",
      "\n",
      "        # second pass (dec negative direction)\n",
      "        for i in range(n_vertical):\n",
      "            new_n_points = self.Ndiameter - i -1\n",
      "            new_x_line = np.zeros((new_n_points), dtype=float)\n",
      "            new_y_line = np.zeros((new_n_points), dtype=float)\n",
      "            new_x_line = x_baseline[0:self.Ndiameter-i-1] + (i+1) * delta_diameter * 0.5\n",
      "            new_y_line = y_baseline[0:self.Ndiameter-i-1] - (i+1) * (np.sqrt(3.0)/2.0) * delta_diameter\n",
      "            self.x = np.append(self.x, new_x_line)\n",
      "            self.y = np.append(self.y, new_y_line)\n",
      "        \n",
      "        self.Nfibers = self.x.size    \n",
      "        self.ID = np.arange(self.Nfibers)"
     ],
     "language": "python",
     "metadata": {},
     "outputs": [],
     "prompt_number": 2
    },
    {
     "cell_type": "code",
     "collapsed": false,
     "input": [
      "fibers = FiberSet(Ndiameter=8, radius=1000.0)"
     ],
     "language": "python",
     "metadata": {},
     "outputs": [],
     "prompt_number": 3
    },
    {
     "cell_type": "code",
     "collapsed": false,
     "input": [
      "scatter(fibers.x, fibers.y)"
     ],
     "language": "python",
     "metadata": {},
     "outputs": [
      {
       "output_type": "pyout",
       "prompt_number": 4,
       "text": [
        "<matplotlib.collections.PathCollection at 0x10e566ed0>"
       ]
      },
      {
       "output_type": "display_data",
       "png": "[encoded data removed]",
       "text": [
        "<matplotlib.figure.Figure at 0x10e42dcd0>"
       ]
      }
     ],
     "prompt_number": 4
    },
    {
     "cell_type": "code",
     "collapsed": false,
     "input": [
      "class MockGalaxies(object):\n",
      "    def __init__(self,\n",
      "                 Ngalaxies=100,\n",
      "                 pitch_mm = 6.0, \n",
      "                 radius = 1.0,\n",
      "                ):\n",
      "        self.Ngalaxies = Ngalaxies\n",
      "        self.make_mock_catalog()\n",
      "            \n",
      "    def make_mock_catalog(self):\n",
      "        self.Ndiameter = self.Ndiameter - (self.Ndiameter%2 -1) #makes the number of spines in the main axis an odd number\n",
      "        \n",
      "        delta_diameter = (2.0*self.radius)/(self.Ndiameter - 1.0)\n",
      "        x_baseline = np.arange(self.Ndiameter) * delta_diameter \n",
      "        x_baseline = x_baseline - np.median(x_baseline)\n",
      "        y_baseline = np.zeros(self.Ndiameter, dtype=float)\n",
      "\n",
      "        self.x = np.empty((0))\n",
      "        self.y = np.empty((0))\n",
      "\n",
      "        self.x = np.append(self.x, x_baseline)\n",
      "        self.y = np.append(self.y, y_baseline)\n",
      "\n",
      "        # first pass (dec positive direction)\n",
      "        n_vertical =  ((self.Ndiameter-1) - ((self.Ndiameter-1)/2))\n",
      "        \n",
      "        for i in range(n_vertical):\n",
      "            new_n_points = self.Ndiameter - i -1\n",
      "            new_x_line = np.zeros((new_n_points), dtype=float)\n",
      "            new_y_line = np.zeros((new_n_points), dtype=float)\n",
      "            new_x_line = x_baseline[0:self.Ndiameter-i-1] + (i+1) * delta_diameter * 0.5\n",
      "            new_y_line = y_baseline[0:self.Ndiameter-i-1] + (i+1) * (np.sqrt(3.0)/2.0) * delta_diameter\n",
      "            self.x = np.append(self.x, new_x_line)\n",
      "            self.y = np.append(self.y, new_y_line)\n",
      "\n",
      "        # second pass (dec negative direction)\n",
      "        for i in range(n_vertical):\n",
      "            new_n_points = self.Ndiameter - i -1\n",
      "            new_x_line = np.zeros((new_n_points), dtype=float)\n",
      "            new_y_line = np.zeros((new_n_points), dtype=float)\n",
      "            new_x_line = x_baseline[0:self.Ndiameter-i-1] + (i+1) * delta_diameter * 0.5\n",
      "            new_y_line = y_baseline[0:self.Ndiameter-i-1] - (i+1) * (np.sqrt(3.0)/2.0) * delta_diameter\n",
      "            self.x = np.append(self.x, new_x_line)\n",
      "            self.y = np.append(self.y, new_y_line)\n",
      "        \n",
      "        self.Nfibers = self.x.size    \n",
      "        self.ID = np.arange(self.Nfibers)"
     ],
     "language": "python",
     "metadata": {},
     "outputs": []
    }
   ],
   "metadata": {}
  }
 ]
}